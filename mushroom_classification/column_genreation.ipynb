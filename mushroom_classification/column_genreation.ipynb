{
 "cells": [
  {
   "cell_type": "code",
   "execution_count": 5,
   "metadata": {
    "collapsed": true
   },
   "outputs": [],
   "source": [
    "import pandas as pd\n",
    "import numpy as np\n",
    "import tensorflow as tf"
   ]
  },
  {
   "cell_type": "code",
   "execution_count": 6,
   "metadata": {
    "collapsed": true
   },
   "outputs": [],
   "source": [
    "feature_descriptor_dict = {}\n",
    "feature_descriptor_dict[\"cap-shape\"] = {\n",
    "    \"b\": \"bell\",\n",
    "    \"c\": \"conical\",\n",
    "    \"x\": \"convex\",\n",
    "    \"f\": \"flat\",\n",
    "    \"k\": \"knobbed\",\n",
    "    \"s\": \"sunken\"\n",
    "}\n",
    "\n",
    "feature_descriptor_dict[\"cap-surface\"] = {\n",
    "    \"f\": \"fibrous\",\n",
    "    \"g\": \"grooves\",\n",
    "    \"y\": \"scaly\",\n",
    "    \"s\": \"smooth\"\n",
    "}\n",
    "\n",
    "feature_descriptor_dict[\"cap-color\"] = {\n",
    "    \"n\": \"brown\",\n",
    "    \"b\": \"buff\",\n",
    "    \"c\": \"cinnamon\",\n",
    "    \"g\": \"gray\",\n",
    "    \"r\": \"green\",\n",
    "    \"p\": \"pink\",\n",
    "    \"u\": \"purple\",\n",
    "    \"e\": \"red\",\n",
    "    \"w\": \"white\",\n",
    "    \"y\": \"yellow\"\n",
    "}\n",
    "\n",
    "feature_descriptor_dict[\"bruises\"] = {\"t\": \"bruises\", \"f\": \"no\"}\n",
    "\n",
    "feature_descriptor_dict[\"odor\"] = {\n",
    "    \"a\": \"almond\",\n",
    "    \"l\": \"anise\",\n",
    "    \"c\": \"creosote\",\n",
    "    \"y\": \"fishy\",\n",
    "    \"f\": \"foul\",\n",
    "    \"m\": \"musty\",\n",
    "    \"n\": \"none\",\n",
    "    \"p\": \"pungent\",\n",
    "    \"s\": \"spicy\"\n",
    "}\n",
    "\n",
    "feature_descriptor_dict[\"gill-attachment\"] = {\n",
    "    \"a\": \"attached\",\n",
    "    \"d\": \"descending\",\n",
    "    \"f\": \"free\",\n",
    "    \"n\": \"notched\"\n",
    "}\n",
    "\n",
    "feature_descriptor_dict[\"gill-spacing\"] = {\"close\": \"c\", \"crowded\": \"w\", \"distant\": \"d\"}\n",
    "\n",
    "feature_descriptor_dict[\"gill-size\"] = {\"broad\": \"b\", \"narrow\": \"n\"}\n",
    "\n",
    "feature_descriptor_dict[\"gill-color\"] = {\n",
    "    \"k\": \"black\",\n",
    "    \"n\": \"brown\",\n",
    "    \"b\": \"buff\",\n",
    "    \"h\": \"chocolate\",\n",
    "    \"g\": \"gray\",\n",
    "    \"r\": \"green\",\n",
    "    \"o\": \"orange\",\n",
    "    \"p\": \"pink\",\n",
    "    \"u\": \"purple\",\n",
    "    \"e\": \"red\",\n",
    "    \"w\": \"white\",\n",
    "    \"y\": \"yellow\"\n",
    "}\n",
    "\n",
    "feature_descriptor_dict[\"stalk-shape\"] = {\"enlarging\": \"e\", \"tapering\": \"t\"}\n",
    "\n",
    "feature_descriptor_dict[\"stalk-root\"] = {\n",
    "    \"b\": \"bulbous\",\n",
    "    \"c\": \"club\",\n",
    "    \"u\": \"cup\",\n",
    "    \"e\": \"equal\",\n",
    "    \"z\": \"rhizomorphs\",\n",
    "    \"r\": \"rooted\",\n",
    "    \"?\": \"missing\"\n",
    "}\n",
    "\n",
    "feature_descriptor_dict[\"stalk-surface-above-ring\"] = {\n",
    "    \"f\": \"fibrous\",\n",
    "    \"y\": \"scaly\",\n",
    "    \"k\": \"silky\",\n",
    "    \"s\": \"smooth\"\n",
    "}\n",
    "\n",
    "feature_descriptor_dict[\"stalk-surface-below-ring\"] = {\n",
    "    \"f\": \"fibrous\",\n",
    "    \"y\": \"scaly\",\n",
    "    \"k\": \"silky\",\n",
    "    \"s\": \"smooth\"\n",
    "}\n",
    "\n",
    "feature_descriptor_dict[\"stalk-color-above-ring\"] = {\n",
    "    \"n\": \"brown\",\n",
    "    \"b\": \"buff\",\n",
    "    \"c\": \"cinnamon\",\n",
    "    \"g\": \"gray\",\n",
    "    \"o\": \"orange\",\n",
    "    \"p\": \"pink\",\n",
    "    \"e\": \"red\",\n",
    "    \"w\": \"white\",\n",
    "    \"y\": \"yellow\"\n",
    "}\n",
    "\n",
    "feature_descriptor_dict[\"stalk-color-below-ring\"] = {\n",
    "    \"n\": \"brown\",\n",
    "    \"b\": \"buff\",\n",
    "    \"c\": \"cinnamon\",\n",
    "    \"g\": \"gray\",\n",
    "    \"o\": \"orange\",\n",
    "    \"p\": \"pink\",\n",
    "    \"e\": \"red\",\n",
    "    \"w\": \"white\",\n",
    "    \"y\": \"yellow\"\n",
    "}\n",
    "\n",
    "feature_descriptor_dict[\"veil-type\"] = {\"partial\": \"p\", \"universal\": \"u\"}\n",
    "\n",
    "feature_descriptor_dict[\"veil-color\"] = {\n",
    "    \"n\": \"brown\",\n",
    "    \"o\": \"orange\",\n",
    "    \"w\": \"white\",\n",
    "    \"y\": \"yellow\"\n",
    "}\n",
    "\n",
    "feature_descriptor_dict[\"ring-number\"] = {\"none\": \"n\", \"one\": \"o\", \"two\": \"t\"}\n",
    "\n",
    "feature_descriptor_dict[\"ring-type\"] = {\n",
    "    \"c\": \"cobwebby\",\n",
    "    \"e\": \"evanescent\",\n",
    "    \"f\": \"flaring\",\n",
    "    \"l\": \"large\",\n",
    "    \"n\": \"none\",\n",
    "    \"p\": \"pendant\",\n",
    "    \"s\": \"sheathing\",\n",
    "    \"z\": \"zone\"\n",
    "}\n",
    "\n",
    "feature_descriptor_dict[\"spore-print-color\"] = {\n",
    "    \"k\": \"black\",\n",
    "    \"n\": \"brown\",\n",
    "    \"b\": \"buff\",\n",
    "    \"h\": \"chocolate\",\n",
    "    \"r\": \"green\",\n",
    "    \"o\": \"orange\",\n",
    "    \"u\": \"purple\",\n",
    "    \"w\": \"white\",\n",
    "    \"y\": \"yellow\"\n",
    "}\n",
    "\n",
    "feature_descriptor_dict[\"population\"] = {\n",
    "    \"a\": \"abundant\",\n",
    "    \"c\": \"clustered\",\n",
    "    \"n\": \"numerous\",\n",
    "    \"s\": \"scattered\",\n",
    "    \"v\": \"several\",\n",
    "    \"y\": \"solitary\"\n",
    "}\n",
    "\n",
    "feature_descriptor_dict[\"habitat\"] = {\n",
    "    \"g\": \"grasses\",\n",
    "    \"l\": \"leaves\",\n",
    "    \"m\": \"meadows\",\n",
    "    \"p\": \"paths\",\n",
    "    \"u\": \"urban\",\n",
    "    \"w\": \"waste\",\n",
    "    \"d\": \"woods\"\n",
    "}\n",
    "\n",
    "TARGET_LABEL = \"classes\"\n",
    "target_descriptor_dict = {}\n",
    "target_descriptor_dict[TARGET_LABEL] = {\"edible\": \"e\", \"poisonous\": \"p\"}"
   ]
  },
  {
   "cell_type": "code",
   "execution_count": 7,
   "metadata": {
    "collapsed": false
   },
   "outputs": [],
   "source": [
    "# Generate TensorFlow feature cols\n",
    "feature_column_dict = {}\n",
    "for feature, value_dict in feature_descriptor_dict.iteritems():\n",
    "    categorical_column = tf.feature_column.categorical_column_with_vocabulary_list(\n",
    "        feature, value_dict.keys())\n",
    "    feature_column_dict[feature] = tf.feature_column.indicator_column(categorical_column) "
   ]
  },
  {
   "cell_type": "code",
   "execution_count": 8,
   "metadata": {
    "collapsed": false
   },
   "outputs": [
    {
     "data": {
      "text/plain": [
       "[_IndicatorColumn(categorical_column=_VocabularyListCategoricalColumn(key='habitat', vocabulary_list=('d', 'g', 'm', 'l', 'p', 'u', 'w'), dtype=tf.string, default_value=-1, num_oov_buckets=0)),\n",
       " _IndicatorColumn(categorical_column=_VocabularyListCategoricalColumn(key='cap-shape', vocabulary_list=('c', 'b', 'f', 'k', 's', 'x'), dtype=tf.string, default_value=-1, num_oov_buckets=0)),\n",
       " _IndicatorColumn(categorical_column=_VocabularyListCategoricalColumn(key='cap-color', vocabulary_list=('p', 'c', 'b', 'u', 'w', 'g', 'y', 'e', 'r', 'n'), dtype=tf.string, default_value=-1, num_oov_buckets=0)),\n",
       " _IndicatorColumn(categorical_column=_VocabularyListCategoricalColumn(key='stalk-color-above-ring', vocabulary_list=('p', 'c', 'b', 'e', 'w', 'g', 'y', 'o', 'n'), dtype=tf.string, default_value=-1, num_oov_buckets=0)),\n",
       " _IndicatorColumn(categorical_column=_VocabularyListCategoricalColumn(key='stalk-shape', vocabulary_list=('enlarging', 'tapering'), dtype=tf.string, default_value=-1, num_oov_buckets=0)),\n",
       " _IndicatorColumn(categorical_column=_VocabularyListCategoricalColumn(key='gill-attachment', vocabulary_list=('a', 'n', 'd', 'f'), dtype=tf.string, default_value=-1, num_oov_buckets=0)),\n",
       " _IndicatorColumn(categorical_column=_VocabularyListCategoricalColumn(key='ring-number', vocabulary_list=('none', 'two', 'one'), dtype=tf.string, default_value=-1, num_oov_buckets=0)),\n",
       " _IndicatorColumn(categorical_column=_VocabularyListCategoricalColumn(key='stalk-surface-below-ring', vocabulary_list=('y', 'k', 's', 'f'), dtype=tf.string, default_value=-1, num_oov_buckets=0)),\n",
       " _IndicatorColumn(categorical_column=_VocabularyListCategoricalColumn(key='cap-surface', vocabulary_list=('y', 's', 'g', 'f'), dtype=tf.string, default_value=-1, num_oov_buckets=0)),\n",
       " _IndicatorColumn(categorical_column=_VocabularyListCategoricalColumn(key='veil-color', vocabulary_list=('y', 'w', 'o', 'n'), dtype=tf.string, default_value=-1, num_oov_buckets=0)),\n",
       " _IndicatorColumn(categorical_column=_VocabularyListCategoricalColumn(key='odor', vocabulary_list=('a', 'p', 'c', 'f', 'y', 's', 'm', 'l', 'n'), dtype=tf.string, default_value=-1, num_oov_buckets=0)),\n",
       " _IndicatorColumn(categorical_column=_VocabularyListCategoricalColumn(key='gill-spacing', vocabulary_list=('close', 'distant', 'crowded'), dtype=tf.string, default_value=-1, num_oov_buckets=0)),\n",
       " _IndicatorColumn(categorical_column=_VocabularyListCategoricalColumn(key='spore-print-color', vocabulary_list=('b', 'u', 'w', 'y', 'h', 'k', 'r', 'o', 'n'), dtype=tf.string, default_value=-1, num_oov_buckets=0)),\n",
       " _IndicatorColumn(categorical_column=_VocabularyListCategoricalColumn(key='gill-color', vocabulary_list=('b', 'e', 'g', 'h', 'k', 'o', 'n', 'p', 'r', 'u', 'w', 'y'), dtype=tf.string, default_value=-1, num_oov_buckets=0)),\n",
       " _IndicatorColumn(categorical_column=_VocabularyListCategoricalColumn(key='population', vocabulary_list=('a', 'c', 'n', 's', 'v', 'y'), dtype=tf.string, default_value=-1, num_oov_buckets=0)),\n",
       " _IndicatorColumn(categorical_column=_VocabularyListCategoricalColumn(key='stalk-color-below-ring', vocabulary_list=('p', 'c', 'b', 'e', 'w', 'g', 'y', 'o', 'n'), dtype=tf.string, default_value=-1, num_oov_buckets=0)),\n",
       " _IndicatorColumn(categorical_column=_VocabularyListCategoricalColumn(key='ring-type', vocabulary_list=('p', 'c', 'e', 'f', 's', 'z', 'l', 'n'), dtype=tf.string, default_value=-1, num_oov_buckets=0)),\n",
       " _IndicatorColumn(categorical_column=_VocabularyListCategoricalColumn(key='bruises', vocabulary_list=('t', 'f'), dtype=tf.string, default_value=-1, num_oov_buckets=0)),\n",
       " _IndicatorColumn(categorical_column=_VocabularyListCategoricalColumn(key='stalk-surface-above-ring', vocabulary_list=('y', 'k', 's', 'f'), dtype=tf.string, default_value=-1, num_oov_buckets=0)),\n",
       " _IndicatorColumn(categorical_column=_VocabularyListCategoricalColumn(key='veil-type', vocabulary_list=('universal', 'partial'), dtype=tf.string, default_value=-1, num_oov_buckets=0)),\n",
       " _IndicatorColumn(categorical_column=_VocabularyListCategoricalColumn(key='stalk-root', vocabulary_list=('c', 'b', 'e', 'r', 'u', 'z', '?'), dtype=tf.string, default_value=-1, num_oov_buckets=0)),\n",
       " _IndicatorColumn(categorical_column=_VocabularyListCategoricalColumn(key='gill-size', vocabulary_list=('broad', 'narrow'), dtype=tf.string, default_value=-1, num_oov_buckets=0))]"
      ]
     },
     "execution_count": 8,
     "metadata": {},
     "output_type": "execute_result"
    }
   ],
   "source": [
    "feature_column_dict.values()"
   ]
  },
  {
   "cell_type": "code",
   "execution_count": 11,
   "metadata": {
    "collapsed": true
   },
   "outputs": [],
   "source": [
    "MUSHROOM_DATA = \"mushrooms.csv\""
   ]
  },
  {
   "cell_type": "code",
   "execution_count": 12,
   "metadata": {
    "collapsed": false
   },
   "outputs": [],
   "source": [
    "mushroom_data = pd.read_csv(\n",
    "  MUSHROOM_DATA, skipinitialspace=True, skiprows=1, names=COLUMNS)"
   ]
  },
  {
   "cell_type": "code",
   "execution_count": 14,
   "metadata": {
    "collapsed": false
   },
   "outputs": [],
   "source": [
    "input_fn = tf.estimator.inputs.pandas_input_fn(\n",
    "    x=pd.DataFrame({k: mushroom_data[k].values for k in feature_descriptor_dict.keys()}),\n",
    "    y=pd.Series(mushroom_data[TARGET_LABEL].values),\n",
    "    shuffle=True)"
   ]
  },
  {
   "cell_type": "code",
   "execution_count": 15,
   "metadata": {
    "collapsed": false
   },
   "outputs": [
    {
     "data": {
      "text/plain": [
       "({'bruises': <tf.Tensor 'random_shuffle_queue_DequeueUpTo:1' shape=(?,) dtype=string>,\n",
       "  'cap-color': <tf.Tensor 'random_shuffle_queue_DequeueUpTo:2' shape=(?,) dtype=string>,\n",
       "  'cap-shape': <tf.Tensor 'random_shuffle_queue_DequeueUpTo:3' shape=(?,) dtype=string>,\n",
       "  'cap-surface': <tf.Tensor 'random_shuffle_queue_DequeueUpTo:4' shape=(?,) dtype=string>,\n",
       "  'gill-attachment': <tf.Tensor 'random_shuffle_queue_DequeueUpTo:5' shape=(?,) dtype=string>,\n",
       "  'gill-color': <tf.Tensor 'random_shuffle_queue_DequeueUpTo:6' shape=(?,) dtype=string>,\n",
       "  'gill-size': <tf.Tensor 'random_shuffle_queue_DequeueUpTo:7' shape=(?,) dtype=string>,\n",
       "  'gill-spacing': <tf.Tensor 'random_shuffle_queue_DequeueUpTo:8' shape=(?,) dtype=string>,\n",
       "  'habitat': <tf.Tensor 'random_shuffle_queue_DequeueUpTo:9' shape=(?,) dtype=string>,\n",
       "  'odor': <tf.Tensor 'random_shuffle_queue_DequeueUpTo:10' shape=(?,) dtype=string>,\n",
       "  'population': <tf.Tensor 'random_shuffle_queue_DequeueUpTo:11' shape=(?,) dtype=string>,\n",
       "  'ring-number': <tf.Tensor 'random_shuffle_queue_DequeueUpTo:12' shape=(?,) dtype=string>,\n",
       "  'ring-type': <tf.Tensor 'random_shuffle_queue_DequeueUpTo:13' shape=(?,) dtype=string>,\n",
       "  'spore-print-color': <tf.Tensor 'random_shuffle_queue_DequeueUpTo:14' shape=(?,) dtype=string>,\n",
       "  'stalk-color-above-ring': <tf.Tensor 'random_shuffle_queue_DequeueUpTo:15' shape=(?,) dtype=string>,\n",
       "  'stalk-color-below-ring': <tf.Tensor 'random_shuffle_queue_DequeueUpTo:16' shape=(?,) dtype=string>,\n",
       "  'stalk-root': <tf.Tensor 'random_shuffle_queue_DequeueUpTo:17' shape=(?,) dtype=string>,\n",
       "  'stalk-shape': <tf.Tensor 'random_shuffle_queue_DequeueUpTo:18' shape=(?,) dtype=string>,\n",
       "  'stalk-surface-above-ring': <tf.Tensor 'random_shuffle_queue_DequeueUpTo:19' shape=(?,) dtype=string>,\n",
       "  'stalk-surface-below-ring': <tf.Tensor 'random_shuffle_queue_DequeueUpTo:20' shape=(?,) dtype=string>,\n",
       "  'veil-color': <tf.Tensor 'random_shuffle_queue_DequeueUpTo:21' shape=(?,) dtype=string>,\n",
       "  'veil-type': <tf.Tensor 'random_shuffle_queue_DequeueUpTo:22' shape=(?,) dtype=string>},\n",
       " <tf.Tensor 'random_shuffle_queue_DequeueUpTo:23' shape=(?,) dtype=string>)"
      ]
     },
     "execution_count": 15,
     "metadata": {},
     "output_type": "execute_result"
    }
   ],
   "source": [
    "input_fn()"
   ]
  },
  {
   "cell_type": "code",
   "execution_count": 16,
   "metadata": {
    "collapsed": false
   },
   "outputs": [
    {
     "data": {
      "text/plain": [
       "({'bruises': <tf.Tensor 'random_shuffle_queue_DequeueUpTo_1:1' shape=(?,) dtype=string>,\n",
       "  'cap-color': <tf.Tensor 'random_shuffle_queue_DequeueUpTo_1:2' shape=(?,) dtype=string>,\n",
       "  'cap-shape': <tf.Tensor 'random_shuffle_queue_DequeueUpTo_1:3' shape=(?,) dtype=string>,\n",
       "  'cap-surface': <tf.Tensor 'random_shuffle_queue_DequeueUpTo_1:4' shape=(?,) dtype=string>,\n",
       "  'gill-attachment': <tf.Tensor 'random_shuffle_queue_DequeueUpTo_1:5' shape=(?,) dtype=string>,\n",
       "  'gill-color': <tf.Tensor 'random_shuffle_queue_DequeueUpTo_1:6' shape=(?,) dtype=string>,\n",
       "  'gill-size': <tf.Tensor 'random_shuffle_queue_DequeueUpTo_1:7' shape=(?,) dtype=string>,\n",
       "  'gill-spacing': <tf.Tensor 'random_shuffle_queue_DequeueUpTo_1:8' shape=(?,) dtype=string>,\n",
       "  'habitat': <tf.Tensor 'random_shuffle_queue_DequeueUpTo_1:9' shape=(?,) dtype=string>,\n",
       "  'odor': <tf.Tensor 'random_shuffle_queue_DequeueUpTo_1:10' shape=(?,) dtype=string>,\n",
       "  'population': <tf.Tensor 'random_shuffle_queue_DequeueUpTo_1:11' shape=(?,) dtype=string>,\n",
       "  'ring-number': <tf.Tensor 'random_shuffle_queue_DequeueUpTo_1:12' shape=(?,) dtype=string>,\n",
       "  'ring-type': <tf.Tensor 'random_shuffle_queue_DequeueUpTo_1:13' shape=(?,) dtype=string>,\n",
       "  'spore-print-color': <tf.Tensor 'random_shuffle_queue_DequeueUpTo_1:14' shape=(?,) dtype=string>,\n",
       "  'stalk-color-above-ring': <tf.Tensor 'random_shuffle_queue_DequeueUpTo_1:15' shape=(?,) dtype=string>,\n",
       "  'stalk-color-below-ring': <tf.Tensor 'random_shuffle_queue_DequeueUpTo_1:16' shape=(?,) dtype=string>,\n",
       "  'stalk-root': <tf.Tensor 'random_shuffle_queue_DequeueUpTo_1:17' shape=(?,) dtype=string>,\n",
       "  'stalk-shape': <tf.Tensor 'random_shuffle_queue_DequeueUpTo_1:18' shape=(?,) dtype=string>,\n",
       "  'stalk-surface-above-ring': <tf.Tensor 'random_shuffle_queue_DequeueUpTo_1:19' shape=(?,) dtype=string>,\n",
       "  'stalk-surface-below-ring': <tf.Tensor 'random_shuffle_queue_DequeueUpTo_1:20' shape=(?,) dtype=string>,\n",
       "  'veil-color': <tf.Tensor 'random_shuffle_queue_DequeueUpTo_1:21' shape=(?,) dtype=string>,\n",
       "  'veil-type': <tf.Tensor 'random_shuffle_queue_DequeueUpTo_1:22' shape=(?,) dtype=string>},\n",
       " <tf.Tensor 'random_shuffle_queue_DequeueUpTo_1:23' shape=(?,) dtype=string>)"
      ]
     },
     "execution_count": 16,
     "metadata": {},
     "output_type": "execute_result"
    }
   ],
   "source": [
    "input_fn()"
   ]
  },
  {
   "cell_type": "code",
   "execution_count": null,
   "metadata": {
    "collapsed": true
   },
   "outputs": [],
   "source": []
  }
 ],
 "metadata": {
  "kernelspec": {
   "display_name": "Python 2",
   "language": "python",
   "name": "python2"
  },
  "language_info": {
   "codemirror_mode": {
    "name": "ipython",
    "version": 2
   },
   "file_extension": ".py",
   "mimetype": "text/x-python",
   "name": "python",
   "nbconvert_exporter": "python",
   "pygments_lexer": "ipython2",
   "version": "2.7.12"
  }
 },
 "nbformat": 4,
 "nbformat_minor": 0
}
