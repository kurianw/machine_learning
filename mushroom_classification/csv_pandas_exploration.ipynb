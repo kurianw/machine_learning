{
 "cells": [
  {
   "cell_type": "code",
   "execution_count": 1,
   "metadata": {
    "collapsed": true
   },
   "outputs": [],
   "source": [
    "import pandas as pd\n",
    "import numpy as np"
   ]
  },
  {
   "cell_type": "code",
   "execution_count": 2,
   "metadata": {
    "collapsed": true
   },
   "outputs": [],
   "source": [
    "MUSHROOM_DATA = \"mushrooms.csv\""
   ]
  },
  {
   "cell_type": "code",
   "execution_count": 21,
   "metadata": {
    "collapsed": false
   },
   "outputs": [],
   "source": [
    "feature_descriptor_dict = {}\n",
    "feature_descriptor_dict[\"cap-shape\"] = {\n",
    "    \"b\": \"bell\",\n",
    "    \"c\": \"conical\",\n",
    "    \"x\": \"convex\",\n",
    "    \"f\": \"flat\",\n",
    "    \"k\": \"knobbed\",\n",
    "    \"s\": \"sunken\"\n",
    "}\n",
    "\n",
    "feature_descriptor_dict[\"cap-surface\"] = {\n",
    "    \"f\": \"fibrous\",\n",
    "    \"g\": \"grooves\",\n",
    "    \"y\": \"scaly\",\n",
    "    \"s\": \"smooth\"\n",
    "}\n",
    "\n",
    "feature_descriptor_dict[\"cap-color\"] = {\n",
    "    \"n\": \"brown\",\n",
    "    \"b\": \"buff\",\n",
    "    \"c\": \"cinnamon\",\n",
    "    \"g\": \"gray\",\n",
    "    \"r\": \"green\",\n",
    "    \"p\": \"pink\",\n",
    "    \"u\": \"purple\",\n",
    "    \"e\": \"red\",\n",
    "    \"w\": \"white\",\n",
    "    \"y\": \"yellow\"\n",
    "}\n",
    "\n",
    "feature_descriptor_dict[\"bruises\"] = {\"t\": \"bruises\", \"f\": \"no\"}\n",
    "\n",
    "feature_descriptor_dict[\"odor\"] = {\n",
    "    \"a\": \"almond\",\n",
    "    \"l\": \"anise\",\n",
    "    \"c\": \"creosote\",\n",
    "    \"y\": \"fishy\",\n",
    "    \"f\": \"foul\",\n",
    "    \"m\": \"musty\",\n",
    "    \"n\": \"none\",\n",
    "    \"p\": \"pungent\",\n",
    "    \"s\": \"spicy\"\n",
    "}\n",
    "\n",
    "feature_descriptor_dict[\"gill-attachment\"] = {\n",
    "    \"a\": \"attached\",\n",
    "    \"d\": \"descending\",\n",
    "    \"f\": \"free\",\n",
    "    \"n\": \"notched\"\n",
    "}\n",
    "\n",
    "feature_descriptor_dict[\"gill-spacing\"] = {\"close\": \"c\", \"crowded\": \"w\", \"distant\": \"d\"}\n",
    "\n",
    "feature_descriptor_dict[\"gill-size\"] = {\"broad\": \"b\", \"narrow\": \"n\"}\n",
    "\n",
    "feature_descriptor_dict[\"gill-color\"] = {\n",
    "    \"k\": \"black\",\n",
    "    \"n\": \"brown\",\n",
    "    \"b\": \"buff\",\n",
    "    \"h\": \"chocolate\",\n",
    "    \"g\": \"gray\",\n",
    "    \"r\": \"green\",\n",
    "    \"o\": \"orange\",\n",
    "    \"p\": \"pink\",\n",
    "    \"u\": \"purple\",\n",
    "    \"e\": \"red\",\n",
    "    \"w\": \"white\",\n",
    "    \"y\": \"yellow\"\n",
    "}\n",
    "\n",
    "feature_descriptor_dict[\"stalk-shape\"] = {\"enlarging\": \"e\", \"tapering\": \"t\"}\n",
    "\n",
    "feature_descriptor_dict[\"stalk-root\"] = {\n",
    "    \"b\": \"bulbous\",\n",
    "    \"c\": \"club\",\n",
    "    \"u\": \"cup\",\n",
    "    \"e\": \"equal\",\n",
    "    \"z\": \"rhizomorphs\",\n",
    "    \"r\": \"rooted\",\n",
    "    \"?\": \"missing\"\n",
    "}\n",
    "\n",
    "feature_descriptor_dict[\"stalk-surface-above-ring\"] = {\n",
    "    \"f\": \"fibrous\",\n",
    "    \"y\": \"scaly\",\n",
    "    \"k\": \"silky\",\n",
    "    \"s\": \"smooth\"\n",
    "}\n",
    "\n",
    "feature_descriptor_dict[\"stalk-surface-below-ring\"] = {\n",
    "    \"f\": \"fibrous\",\n",
    "    \"y\": \"scaly\",\n",
    "    \"k\": \"silky\",\n",
    "    \"s\": \"smooth\"\n",
    "}\n",
    "\n",
    "feature_descriptor_dict[\"stalk-color-above-ring\"] = {\n",
    "    \"n\": \"brown\",\n",
    "    \"b\": \"buff\",\n",
    "    \"c\": \"cinnamon\",\n",
    "    \"g\": \"gray\",\n",
    "    \"o\": \"orange\",\n",
    "    \"p\": \"pink\",\n",
    "    \"e\": \"red\",\n",
    "    \"w\": \"white\",\n",
    "    \"y\": \"yellow\"\n",
    "}\n",
    "\n",
    "feature_descriptor_dict[\"stalk-color-below-ring\"] = {\n",
    "    \"n\": \"brown\",\n",
    "    \"b\": \"buff\",\n",
    "    \"c\": \"cinnamon\",\n",
    "    \"g\": \"gray\",\n",
    "    \"o\": \"orange\",\n",
    "    \"p\": \"pink\",\n",
    "    \"e\": \"red\",\n",
    "    \"w\": \"white\",\n",
    "    \"y\": \"yellow\"\n",
    "}\n",
    "\n",
    "feature_descriptor_dict[\"veil-type\"] = {\"partial\": \"p\", \"universal\": \"u\"}\n",
    "\n",
    "feature_descriptor_dict[\"veil-color\"] = {\n",
    "    \"n\": \"brown\",\n",
    "    \"o\": \"orange\",\n",
    "    \"w\": \"white\",\n",
    "    \"y\": \"yellow\"\n",
    "}\n",
    "\n",
    "feature_descriptor_dict[\"ring-number\"] = {\"none\": \"n\", \"one\": \"o\", \"two\": \"t\"}\n",
    "\n",
    "feature_descriptor_dict[\"ring-type\"] = {\n",
    "    \"c\": \"cobwebby\",\n",
    "    \"e\": \"evanescent\",\n",
    "    \"f\": \"flaring\",\n",
    "    \"l\": \"large\",\n",
    "    \"n\": \"none\",\n",
    "    \"p\": \"pendant\",\n",
    "    \"s\": \"sheathing\",\n",
    "    \"z\": \"zone\"\n",
    "}\n",
    "\n",
    "feature_descriptor_dict[\"spore-print-color\"] = {\n",
    "    \"k\": \"black\",\n",
    "    \"n\": \"brown\",\n",
    "    \"b\": \"buff\",\n",
    "    \"h\": \"chocolate\",\n",
    "    \"r\": \"green\",\n",
    "    \"o\": \"orange\",\n",
    "    \"u\": \"purple\",\n",
    "    \"w\": \"white\",\n",
    "    \"y\": \"yellow\"\n",
    "}\n",
    "\n",
    "feature_descriptor_dict[\"population\"] = {\n",
    "    \"a\": \"abundant\",\n",
    "    \"c\": \"clustered\",\n",
    "    \"n\": \"numerous\",\n",
    "    \"s\": \"scattered\",\n",
    "    \"v\": \"several\",\n",
    "    \"y\": \"solitary\"\n",
    "}\n",
    "\n",
    "feature_descriptor_dict[\"habitat\"] = {\n",
    "    \"g\": \"grasses\",\n",
    "    \"l\": \"leaves\",\n",
    "    \"m\": \"meadows\",\n",
    "    \"p\": \"paths\",\n",
    "    \"u\": \"urban\",\n",
    "    \"w\": \"waste\",\n",
    "    \"d\": \"woods\"\n",
    "}\n",
    "\n",
    "TARGET_LABEL = \"class\"\n",
    "target_descriptor_dict = {\"e\": \"edible\", \"p\": \"poisonous\"}\n",
    "target_index_dict = {\"e\": 0, \"p\": 1}"
   ]
  },
  {
   "cell_type": "code",
   "execution_count": 22,
   "metadata": {
    "collapsed": false
   },
   "outputs": [],
   "source": [
    "COLUMNS = feature_descriptor_dict.keys() + [TARGET_LABEL]"
   ]
  },
  {
   "cell_type": "code",
   "execution_count": 39,
   "metadata": {
    "collapsed": false
   },
   "outputs": [],
   "source": [
    "# Load datasets.\n",
    "mushroom_data = pd.read_csv(MUSHROOM_DATA, skipinitialspace=True)"
   ]
  },
  {
   "cell_type": "code",
   "execution_count": 40,
   "metadata": {
    "collapsed": false
   },
   "outputs": [
    {
     "data": {
      "text/plain": [
       "Index([u'class', u'cap-shape', u'cap-surface', u'cap-color', u'bruises',\n",
       "       u'odor', u'gill-attachment', u'gill-spacing', u'gill-size',\n",
       "       u'gill-color', u'stalk-shape', u'stalk-root',\n",
       "       u'stalk-surface-above-ring', u'stalk-surface-below-ring',\n",
       "       u'stalk-color-above-ring', u'stalk-color-below-ring', u'veil-type',\n",
       "       u'veil-color', u'ring-number', u'ring-type', u'spore-print-color',\n",
       "       u'population', u'habitat'],\n",
       "      dtype='object')"
      ]
     },
     "execution_count": 40,
     "metadata": {},
     "output_type": "execute_result"
    }
   ],
   "source": [
    "mushroom_data.keys()"
   ]
  },
  {
   "cell_type": "code",
   "execution_count": 43,
   "metadata": {
    "collapsed": false
   },
   "outputs": [],
   "source": [
    "y_string = pd.Series(mushroom_data[TARGET_LABEL].values)"
   ]
  },
  {
   "cell_type": "code",
   "execution_count": 44,
   "metadata": {
    "collapsed": false
   },
   "outputs": [
    {
     "data": {
      "text/plain": [
       "0       p\n",
       "1       e\n",
       "2       e\n",
       "3       p\n",
       "4       e\n",
       "5       e\n",
       "6       e\n",
       "7       e\n",
       "8       p\n",
       "9       e\n",
       "10      e\n",
       "11      e\n",
       "12      e\n",
       "13      p\n",
       "14      e\n",
       "15      e\n",
       "16      e\n",
       "17      p\n",
       "18      p\n",
       "19      p\n",
       "20      e\n",
       "21      p\n",
       "22      e\n",
       "23      e\n",
       "24      e\n",
       "25      p\n",
       "26      e\n",
       "27      e\n",
       "28      e\n",
       "29      e\n",
       "       ..\n",
       "8094    e\n",
       "8095    p\n",
       "8096    e\n",
       "8097    p\n",
       "8098    p\n",
       "8099    e\n",
       "8100    e\n",
       "8101    p\n",
       "8102    e\n",
       "8103    e\n",
       "8104    e\n",
       "8105    e\n",
       "8106    e\n",
       "8107    e\n",
       "8108    p\n",
       "8109    e\n",
       "8110    e\n",
       "8111    e\n",
       "8112    e\n",
       "8113    p\n",
       "8114    p\n",
       "8115    e\n",
       "8116    p\n",
       "8117    p\n",
       "8118    p\n",
       "8119    e\n",
       "8120    e\n",
       "8121    e\n",
       "8122    p\n",
       "8123    e\n",
       "dtype: object"
      ]
     },
     "execution_count": 44,
     "metadata": {},
     "output_type": "execute_result"
    }
   ],
   "source": [
    "y_string"
   ]
  },
  {
   "cell_type": "code",
   "execution_count": 45,
   "metadata": {
    "collapsed": true
   },
   "outputs": [],
   "source": [
    "y = y_string.map(target_index_dict)"
   ]
  },
  {
   "cell_type": "code",
   "execution_count": 46,
   "metadata": {
    "collapsed": false
   },
   "outputs": [
    {
     "data": {
      "text/plain": [
       "0       1\n",
       "1       0\n",
       "2       0\n",
       "3       1\n",
       "4       0\n",
       "5       0\n",
       "6       0\n",
       "7       0\n",
       "8       1\n",
       "9       0\n",
       "10      0\n",
       "11      0\n",
       "12      0\n",
       "13      1\n",
       "14      0\n",
       "15      0\n",
       "16      0\n",
       "17      1\n",
       "18      1\n",
       "19      1\n",
       "20      0\n",
       "21      1\n",
       "22      0\n",
       "23      0\n",
       "24      0\n",
       "25      1\n",
       "26      0\n",
       "27      0\n",
       "28      0\n",
       "29      0\n",
       "       ..\n",
       "8094    0\n",
       "8095    1\n",
       "8096    0\n",
       "8097    1\n",
       "8098    1\n",
       "8099    0\n",
       "8100    0\n",
       "8101    1\n",
       "8102    0\n",
       "8103    0\n",
       "8104    0\n",
       "8105    0\n",
       "8106    0\n",
       "8107    0\n",
       "8108    1\n",
       "8109    0\n",
       "8110    0\n",
       "8111    0\n",
       "8112    0\n",
       "8113    1\n",
       "8114    1\n",
       "8115    0\n",
       "8116    1\n",
       "8117    1\n",
       "8118    1\n",
       "8119    0\n",
       "8120    0\n",
       "8121    0\n",
       "8122    1\n",
       "8123    0\n",
       "dtype: int64"
      ]
     },
     "execution_count": 46,
     "metadata": {},
     "output_type": "execute_result"
    }
   ],
   "source": [
    "y"
   ]
  },
  {
   "cell_type": "code",
   "execution_count": null,
   "metadata": {
    "collapsed": true
   },
   "outputs": [],
   "source": []
  }
 ],
 "metadata": {
  "kernelspec": {
   "display_name": "Python 2",
   "language": "python",
   "name": "python2"
  },
  "language_info": {
   "codemirror_mode": {
    "name": "ipython",
    "version": 2
   },
   "file_extension": ".py",
   "mimetype": "text/x-python",
   "name": "python",
   "nbconvert_exporter": "python",
   "pygments_lexer": "ipython2",
   "version": "2.7.12"
  }
 },
 "nbformat": 4,
 "nbformat_minor": 0
}
